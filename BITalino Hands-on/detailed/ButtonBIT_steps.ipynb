{
 "cells": [
  {
   "cell_type": "markdown",
   "metadata": {},
   "source": [
    "# ButtonBIT.py Step by step"
   ]
  },
  {
   "cell_type": "markdown",
   "metadata": {
    "collapsed": true
   },
   "source": [
    "1 - Import bitalino and numpy python libraries"
   ]
  },
  {
   "cell_type": "code",
   "execution_count": 1,
   "metadata": {
    "collapsed": true
   },
   "outputs": [],
   "source": [
    "import bitalino\n",
    "import numpy"
   ]
  },
  {
   "cell_type": "markdown",
   "metadata": {},
   "source": [
    "2 - Input your device's MAC address"
   ]
  },
  {
   "cell_type": "code",
   "execution_count": null,
   "metadata": {
    "collapsed": true
   },
   "outputs": [],
   "source": [
    "# Mac OS\n",
    "# macAddress = \"/dev/tty.BITalino-01-93-DevB\"\n",
    "\n",
    "# Windows\n",
    "macAddress = \"XX:XX:XX:XX:XX:XX\"\n",
    "\n",
    "device = bitalino.BITalino(macAddress)"
   ]
  },
  {
   "cell_type": "markdown",
   "metadata": {},
   "source": [
    "3 - Start a loop to perform actions continuously, while(True):\n",
    "\n",
    "    a. Get your device's state (this holds information about the battery, analog channels and digital channels, IN & OUT).\n",
    "    b. Set a toggle variable with the button information (first digital channel [0])\n",
    "    c. Trigger a change in LED light and print on screen"
   ]
  },
  {
   "cell_type": "code",
   "execution_count": null,
   "metadata": {
    "collapsed": true
   },
   "outputs": [],
   "source": [
    "while True:\n",
    "    state = device.state()\n",
    "    \n",
    "    toggle = state['digitalChannels'][0]\n",
    "    \n",
    "    device.trigger([toggle, 0])\n",
    "    \n",
    "    device.battery(0 if toggle else 63)\n",
    "    \n",
    "    print (\"LIGHTS ON\") if toggle else (\"LIGHTS OFF\")\n",
    "\n",
    "device.close()"
   ]
  }
 ],
 "metadata": {
  "kernelspec": {
   "display_name": "Python 2",
   "language": "python",
   "name": "python2"
  },
  "language_info": {
   "codemirror_mode": {
    "name": "ipython",
    "version": 2
   },
   "file_extension": ".py",
   "mimetype": "text/x-python",
   "name": "python",
   "nbconvert_exporter": "python",
   "pygments_lexer": "ipython2",
   "version": "2.7.13"
  }
 },
 "nbformat": 4,
 "nbformat_minor": 2
}
