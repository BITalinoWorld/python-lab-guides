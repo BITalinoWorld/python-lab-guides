{
 "cells": [
  {
   "cell_type": "markdown",
   "metadata": {},
   "source": [
    "# MuscleBIT.py Step by step\n",
    "\n",
    "1 - Import bitalino, numpy and time python libraries"
   ]
  },
  {
   "cell_type": "code",
   "execution_count": 1,
   "metadata": {
    "collapsed": true
   },
   "outputs": [],
   "source": [
    "import bitalino\n",
    "import numpy\n",
    "import time"
   ]
  },
  {
   "cell_type": "markdown",
   "metadata": {},
   "source": [
    "2 - Input your device's MAC address and wait 1 second"
   ]
  },
  {
   "cell_type": "code",
   "execution_count": 2,
   "metadata": {},
   "outputs": [],
   "source": [
    "# Mac OS\n",
    "# macAddress = \"/dev/tty.BITalino-01-93-DevB\"\n",
    "\n",
    "# Windows\n",
    "macAddress = \"XX:XX:XX:XX:XX:XX\"\n",
    "\n",
    "device = bitalino.BITalino(macAddress)\n",
    "time.sleep(1)"
   ]
  },
  {
   "cell_type": "markdown",
   "metadata": {},
   "source": [
    "3 - Set parameters for the biosignal acquisition:\n",
    "     Sampling rate (srate), Number of frames (nframes), Threshold value (threshold)"
   ]
  },
  {
   "cell_type": "code",
   "execution_count": 3,
   "metadata": {
    "collapsed": true
   },
   "outputs": [],
   "source": [
    "srate = 1000\n",
    "nframes = 100\n",
    "threshold = 5"
   ]
  },
  {
   "cell_type": "markdown",
   "metadata": {},
   "source": [
    "4 - Start  a continuous acquisiton using only analog channel 0 ==> EMG"
   ]
  },
  {
   "cell_type": "code",
   "execution_count": 4,
   "metadata": {},
   "outputs": [
    {
     "name": "stdout",
     "output_type": "stream",
     "text": [
      "START\n"
     ]
    }
   ],
   "source": [
    "#===============  ========= ========= ========= ========= ======== \n",
    "#Sequence Number    BTN       -----     LED       BUZ       EMG    \n",
    "#===============  ========= ========= ========= ========= ======== \n",
    "#  0                1         2         3         4         5      \n",
    "\n",
    "device.start(srate, [0])\n",
    "print (\"START\")"
   ]
  },
  {
   "cell_type": "markdown",
   "metadata": {},
   "source": [
    "5 - Run an acquistion reading nframes and perform the following actions:\n",
    "\n",
    "    a. Stop when pressing the button for a while\n",
    "    b. Compute an envelope as the average of signal changes\n",
    "    c. Detect whether envelope exceeds threshold and turn on the buzzer if so ==> device.trigger([0, 1])"
   ]
  },
  {
   "cell_type": "code",
   "execution_count": 5,
   "metadata": {},
   "outputs": [
    {
     "name": "stdout",
     "output_type": "stream",
     "text": [
      "STOP\n"
     ]
    }
   ],
   "source": [
    "try:\n",
    "    while True:\n",
    "\n",
    "        data = device.read(nframes)\n",
    "        \n",
    "        if numpy.mean(data[:, 1]) < 1: break\n",
    "\n",
    "        EMG = data[:, -1]\n",
    "        \n",
    "        envelope = numpy.mean(abs(numpy.diff(EMG)))\n",
    "\n",
    "        if envelope > threshold:\n",
    "            device.trigger([0, 1])\n",
    "        else:\n",
    "            device.trigger([0, 0])\n",
    "\n",
    "finally:\n",
    "    print \"STOP\"\n",
    "    device.stop()\n",
    "    device.close()"
   ]
  }
 ],
 "metadata": {
  "kernelspec": {
   "display_name": "Python 2",
   "language": "python",
   "name": "python2"
  },
  "language_info": {
   "codemirror_mode": {
    "name": "ipython",
    "version": 2
   },
   "file_extension": ".py",
   "mimetype": "text/x-python",
   "name": "python",
   "nbconvert_exporter": "python",
   "pygments_lexer": "ipython2",
   "version": "2.7.13"
  }
 },
 "nbformat": 4,
 "nbformat_minor": 2
}
