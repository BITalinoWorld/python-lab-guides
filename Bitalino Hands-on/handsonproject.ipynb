{
 "cells": [
  {
   "cell_type": "markdown",
   "metadata": {},
   "source": [
    "This code template shows you how to use some sensors for signal acquisition and create an application that analyses\n",
    "it to take a decision. The code includes the steps of:\n",
    " 1. Acquire\n",
    " 2. Process\n",
    " 3. Actuate"
   ]
  },
  {
   "cell_type": "code",
   "execution_count": null,
   "metadata": {
    "collapsed": true
   },
   "outputs": [],
   "source": [
    "# -*- coding: utf-8 -*-\n",
    "import bitalino\n",
    "\n",
    "import numpy\n",
    "import time\n",
    "\n",
    "# Mac OS\n",
    "macAddress = \"/dev/tty.BITalino-01-93-DevB\"\n",
    "\n",
    "# Windows\n",
    "# macAddress = \"XX:XX:XX:XX:XX:XX\"\n",
    "   \n",
    "device = bitalino.BITalino(macAddress)\n",
    "time.sleep(1)\n",
    "\n",
    "srate = 1000\n",
    "nframes = 100\n",
    "threshold = 5\n",
    "\n",
    "device.start(srate, [0])\n",
    "print \"START\"\n",
    "\n",
    "try:\n",
    "    while True:\n",
    "\n",
    "        data = device.read(nframes)\n",
    "        \n",
    "        if numpy.mean(data[:, 1]) < 1: break\n",
    "\n",
    "        EMG = data[:, -1]\n",
    "        \n",
    "        envelope = numpy.mean(abs(numpy.diff(EMG)))\n",
    "\n",
    "        if envelope > threshold:\n",
    "            device.trigger([0, 1])\n",
    "        else:\n",
    "            device.trigger([0, 0])\n",
    "\n",
    "finally:\n",
    "    print \"STOP\"\n",
    "    device.stop()\n",
    "    device.close()\n"
   ]
  },
  {
   "cell_type": "markdown",
   "metadata": {},
   "source": [
    "PLUX Hands-on PROJECT:\n",
    "This work is subject to an evaluation based on: \n",
    " 1. Goal\n",
    " 2. Signal processing\n",
    " 3. Actuation Decision\n",
    " 4. Quality of code\n",
    " 5. Quality of writining\n",
    "\n",
    "This work is based on an EMG acquisition example. Modify the previous example so that 2 signals are acquired, combined, and analised together in order to take an  action and provide an output. Please make sure you validate your goals with an organiser before starting to code.\n",
    "\n",
    "You must share your final code via a github account(https://github.com/).  \n",
    "Your final result must be nicely presented in a lab report (5 pages).\n",
    " \n"
   ]
  }
 ],
 "metadata": {
  "anaconda-cloud": {},
  "kernelspec": {
   "display_name": "Python [conda root]",
   "language": "python",
   "name": "conda-root-py"
  },
  "language_info": {
   "codemirror_mode": {
    "name": "ipython",
    "version": 3
   },
   "file_extension": ".py",
   "mimetype": "text/x-python",
   "name": "python",
   "nbconvert_exporter": "python",
   "pygments_lexer": "ipython3",
   "version": "3.5.2"
  }
 },
 "nbformat": 4,
 "nbformat_minor": 1
}
