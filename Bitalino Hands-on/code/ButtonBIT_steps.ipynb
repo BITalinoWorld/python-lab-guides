{
 "cells": [
  {
   "cell_type": "markdown",
   "metadata": {},
   "source": [
    "# ButtonBIT.py Step by step"
   ]
  },
  {
   "cell_type": "markdown",
   "metadata": {
    "collapsed": true
   },
   "source": [
    "1 - Import bitalino and numpy python libraries"
   ]
  },
  {
   "cell_type": "code",
   "execution_count": 1,
   "metadata": {
    "collapsed": true
   },
   "outputs": [],
   "source": [
    "import bitalino\n",
    "import numpy"
   ]
  },
  {
   "cell_type": "markdown",
   "metadata": {},
   "source": [
    "2 - Input your device's MAC address"
   ]
  },
  {
   "cell_type": "code",
   "execution_count": 7,
   "metadata": {},
   "outputs": [],
   "source": [
    "# Mac OS\n",
    "# macAddress = \"/dev/tty.BITalino-01-93-DevB\"\n",
    "\n",
    "# Windows\n",
    "macAddress = \"20:17:09:18:46:98\"\n",
    "#macAddress = \"20:16:12:21:99:11\"\n",
    "#macAddress = \"XX:XX:XX:XX:XX:XX\"\n",
    "\n",
    "device = bitalino.BITalino(macAddress)"
   ]
  },
  {
   "cell_type": "markdown",
   "metadata": {},
   "source": [
    "3 - Start a loop to perform actions continuously, while(True):\n",
    "\n",
    "    a. Get your device's state (this holds information about the battery, analog channels and digital channels, IN & OUT).\n",
    "    b. Set a toggle variable with the button information (first digital channel [0])\n",
    "    c. Trigger a change in LED light and print on screen"
   ]
  },
  {
   "cell_type": "code",
   "execution_count": 8,
   "metadata": {},
   "outputs": [
    {
     "name": "stdout",
     "output_type": "stream",
     "text": [
      "LIGHTS ON\n",
      "LIGHTS ON\n",
      "LIGHTS ON\n",
      "LIGHTS ON\n",
      "LIGHTS ON\n",
      "LIGHTS ON\n",
      "LIGHTS ON\n",
      "LIGHTS ON\n",
      "LIGHTS ON\n",
      "LIGHTS ON\n",
      "LIGHTS ON\n",
      "LIGHTS ON\n",
      "LIGHTS ON\n",
      "LIGHTS ON\n",
      "LIGHTS ON\n",
      "LIGHTS ON\n",
      "LIGHTS ON\n",
      "LIGHTS ON\n",
      "LIGHTS ON\n",
      "LIGHTS ON\n",
      "LIGHTS ON\n",
      "LIGHTS ON\n",
      "LIGHTS ON\n",
      "LIGHTS ON\n",
      "LIGHTS ON\n",
      "LIGHTS ON\n",
      "LIGHTS ON\n",
      "LIGHTS ON\n",
      "LIGHTS ON\n",
      "LIGHTS ON\n",
      "LIGHTS ON\n",
      "LIGHTS ON\n",
      "LIGHTS ON\n",
      "LIGHTS ON\n",
      "LIGHTS ON\n",
      "LIGHTS ON\n",
      "LIGHTS ON\n",
      "LIGHTS ON\n",
      "LIGHTS ON\n",
      "LIGHTS ON\n",
      "LIGHTS ON\n",
      "LIGHTS ON\n"
     ]
    },
    {
     "ename": "KeyboardInterrupt",
     "evalue": "",
     "output_type": "error",
     "traceback": [
      "\u001b[1;31m---------------------------------------------------------------------------\u001b[0m",
      "\u001b[1;31mKeyboardInterrupt\u001b[0m                         Traceback (most recent call last)",
      "\u001b[1;32m<ipython-input-8-5f3c73e56e67>\u001b[0m in \u001b[0;36m<module>\u001b[1;34m()\u001b[0m\n\u001b[0;32m      1\u001b[0m \u001b[1;32mwhile\u001b[0m \u001b[0mTrue\u001b[0m\u001b[1;33m:\u001b[0m\u001b[1;33m\u001b[0m\u001b[0m\n\u001b[1;32m----> 2\u001b[1;33m     \u001b[0mstate\u001b[0m \u001b[1;33m=\u001b[0m \u001b[0mdevice\u001b[0m\u001b[1;33m.\u001b[0m\u001b[0mstate\u001b[0m\u001b[1;33m(\u001b[0m\u001b[1;33m)\u001b[0m\u001b[1;33m\u001b[0m\u001b[0m\n\u001b[0m\u001b[0;32m      3\u001b[0m \u001b[1;33m\u001b[0m\u001b[0m\n\u001b[0;32m      4\u001b[0m     \u001b[0mtoggle\u001b[0m \u001b[1;33m=\u001b[0m \u001b[0mstate\u001b[0m\u001b[1;33m[\u001b[0m\u001b[1;34m'digitalChannels'\u001b[0m\u001b[1;33m]\u001b[0m\u001b[1;33m[\u001b[0m\u001b[1;36m0\u001b[0m\u001b[1;33m]\u001b[0m\u001b[1;33m\u001b[0m\u001b[0m\n\u001b[0;32m      5\u001b[0m \u001b[1;33m\u001b[0m\u001b[0m\n",
      "\u001b[1;32mD:\\Anaconda2\\lib\\site-packages\\bitalino.pyc\u001b[0m in \u001b[0;36mstate\u001b[1;34m(self)\u001b[0m\n\u001b[0;32m    285\u001b[0m                 \u001b[1;31m#           <Battery threshold (1 byte: 0..63)>\u001b[0m\u001b[1;33m\u001b[0m\u001b[1;33m\u001b[0m\u001b[0m\n\u001b[0;32m    286\u001b[0m                 \u001b[1;31m#           <Digital ports + CRC (1 byte: I1 I2 O1 O2 <CRC 4-bit>)>\u001b[0m\u001b[1;33m\u001b[0m\u001b[1;33m\u001b[0m\u001b[0m\n\u001b[1;32m--> 287\u001b[1;33m                 \u001b[0mself\u001b[0m\u001b[1;33m.\u001b[0m\u001b[0msend\u001b[0m\u001b[1;33m(\u001b[0m\u001b[1;36m11\u001b[0m\u001b[1;33m)\u001b[0m\u001b[1;33m\u001b[0m\u001b[0m\n\u001b[0m\u001b[0;32m    288\u001b[0m                 \u001b[0mnumber_bytes\u001b[0m \u001b[1;33m=\u001b[0m \u001b[1;36m16\u001b[0m\u001b[1;33m\u001b[0m\u001b[0m\n\u001b[0;32m    289\u001b[0m                 \u001b[0mData\u001b[0m \u001b[1;33m=\u001b[0m \u001b[0mself\u001b[0m\u001b[1;33m.\u001b[0m\u001b[0mreceive\u001b[0m\u001b[1;33m(\u001b[0m\u001b[0mnumber_bytes\u001b[0m\u001b[1;33m)\u001b[0m\u001b[1;33m\u001b[0m\u001b[0m\n",
      "\u001b[1;32mD:\\Anaconda2\\lib\\site-packages\\bitalino.pyc\u001b[0m in \u001b[0;36msend\u001b[1;34m(self, data)\u001b[0m\n\u001b[0;32m    204\u001b[0m         \u001b[0mSends\u001b[0m \u001b[0ma\u001b[0m \u001b[0mcommand\u001b[0m \u001b[0mto\u001b[0m \u001b[0mthe\u001b[0m \u001b[0mBITalino\u001b[0m \u001b[0mdevice\u001b[0m\u001b[1;33m.\u001b[0m\u001b[1;33m\u001b[0m\u001b[0m\n\u001b[0;32m    205\u001b[0m         \"\"\"\n\u001b[1;32m--> 206\u001b[1;33m         \u001b[0mtime\u001b[0m\u001b[1;33m.\u001b[0m\u001b[0msleep\u001b[0m\u001b[1;33m(\u001b[0m\u001b[1;36m0.1\u001b[0m\u001b[1;33m)\u001b[0m\u001b[1;33m\u001b[0m\u001b[0m\n\u001b[0m\u001b[0;32m    207\u001b[0m         \u001b[1;32mif\u001b[0m \u001b[0mself\u001b[0m\u001b[1;33m.\u001b[0m\u001b[0mserial\u001b[0m\u001b[1;33m:\u001b[0m\u001b[1;33m\u001b[0m\u001b[0m\n\u001b[0;32m    208\u001b[0m             \u001b[0mself\u001b[0m\u001b[1;33m.\u001b[0m\u001b[0msocket\u001b[0m\u001b[1;33m.\u001b[0m\u001b[0mwrite\u001b[0m\u001b[1;33m(\u001b[0m\u001b[0mchr\u001b[0m\u001b[1;33m(\u001b[0m\u001b[0mdata\u001b[0m\u001b[1;33m)\u001b[0m\u001b[1;33m)\u001b[0m\u001b[1;33m\u001b[0m\u001b[0m\n",
      "\u001b[1;31mKeyboardInterrupt\u001b[0m: "
     ]
    }
   ],
   "source": [
    "while True:\n",
    "    state = device.state()\n",
    "    \n",
    "    toggle = state['digitalChannels'][0]\n",
    "    \n",
    "    device.trigger([toggle, 0])\n",
    "    \n",
    "    device.battery(0 if toggle else 63)\n",
    "    \n",
    "    print (\"LIGHTS ON\") if toggle else (\"LIGHTS OFF\")\n",
    "\n",
    "device.close()"
   ]
  },
  {
   "cell_type": "code",
   "execution_count": null,
   "metadata": {
    "collapsed": true
   },
   "outputs": [],
   "source": []
  }
 ],
 "metadata": {
  "kernelspec": {
   "display_name": "Python 2",
   "language": "python",
   "name": "python2"
  },
  "language_info": {
   "codemirror_mode": {
    "name": "ipython",
    "version": 2
   },
   "file_extension": ".py",
   "mimetype": "text/x-python",
   "name": "python",
   "nbconvert_exporter": "python",
   "pygments_lexer": "ipython2",
   "version": "2.7.13"
  }
 },
 "nbformat": 4,
 "nbformat_minor": 2
}
